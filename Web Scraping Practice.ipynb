{
 "cells": [
  {
   "cell_type": "markdown",
   "metadata": {},
   "source": [
    "# Practicing web scraping\n",
    "\n",
    "This workbook is for me to practice using Jupyter and also to see if I can use Python to understand webscraping.  Maybe, maybe not, we shall see...\n",
    "\n",
    "Initial thoughts are we need to do the following:\n",
    "\n",
    "- Load the correct Python libraries\n",
    "- Choose a target website\n",
    "- Practice opening webpages in the browser\n",
    "- Practice reading them in code\n",
    "- Practice Parsing them in code\n",
    "- Output some data to a useable text file or csv\n",
    "\n",
    "Need a good example to do this.  Will try with a bbc sport article, originally this one: https://www.bbc.com/sport/football/44659159\n",
    "\n",
    "But then trying this one using Beautiful Soup: https://www.bbc.com/sport/football/44665445\n",
    "\n",
    "\n",
    "## Open webpage in the browser\n",
    "\n",
    "To do this I need to load in the webbrowser module and open the page.\n"
   ]
  },
  {
   "cell_type": "code",
   "execution_count": 1,
   "metadata": {},
   "outputs": [
    {
     "name": "stdout",
     "output_type": "stream",
     "text": [
      "It opened a browser and is awesome!\n"
     ]
    }
   ],
   "source": [
    "import webbrowser\n",
    "webpage = 'https://www.bbc.com/sport/football/44659159'\n",
    "if webbrowser.open(webpage):\n",
    "    print(\"It opened a browser and is awesome!\")\n",
    "else:\n",
    "    print(\"Big fat fail!\")"
   ]
  },
  {
   "cell_type": "markdown",
   "metadata": {},
   "source": [
    "## Read in a simple webpage...\n",
    "\n",
    "Need to load in the requests module, and I'm away...\n"
   ]
  },
  {
   "cell_type": "code",
   "execution_count": 2,
   "metadata": {},
   "outputs": [
    {
     "data": {
      "text/plain": [
       "requests.models.Response"
      ]
     },
     "execution_count": 2,
     "metadata": {},
     "output_type": "execute_result"
    }
   ],
   "source": [
    "import requests\n",
    "res = requests.get(webpage)\n",
    "type(res)"
   ]
  },
  {
   "cell_type": "code",
   "execution_count": 3,
   "metadata": {},
   "outputs": [
    {
     "data": {
      "text/plain": [
       "True"
      ]
     },
     "execution_count": 3,
     "metadata": {},
     "output_type": "execute_result"
    }
   ],
   "source": [
    "res.status_code == requests.codes.ok"
   ]
  },
  {
   "cell_type": "code",
   "execution_count": 4,
   "metadata": {},
   "outputs": [
    {
     "data": {
      "text/plain": [
       "160877"
      ]
     },
     "execution_count": 4,
     "metadata": {},
     "output_type": "execute_result"
    }
   ],
   "source": [
    "len(res.text)"
   ]
  },
  {
   "cell_type": "code",
   "execution_count": 5,
   "metadata": {},
   "outputs": [
    {
     "name": "stdout",
     "output_type": "stream",
     "text": [
      "    <!DOCTYPE html>  <html id=\"sport-html\" class=\"b-reith-sans-font no-js no-enhanced no-touch no-font-face no-av no-app no-csscolumns no-css-transitions no-css-2d-transforms no-flexbox no-svg\"  lang=\"en\"> <head> <title>Marouane Fellaini: Manchester \n"
     ]
    }
   ],
   "source": [
    "print(res.text[:250])"
   ]
  },
  {
   "cell_type": "markdown",
   "metadata": {},
   "source": [
    "## Test for correct read\n",
    "\n",
    "The above should work, and show some of the code.\n",
    "\n",
    "Should use a programmatic check though of method raise_for_status(), with example given below.\n"
   ]
  },
  {
   "cell_type": "code",
   "execution_count": 6,
   "metadata": {},
   "outputs": [],
   "source": [
    "res.raise_for_status()"
   ]
  },
  {
   "cell_type": "code",
   "execution_count": 7,
   "metadata": {},
   "outputs": [
    {
     "name": "stdout",
     "output_type": "stream",
     "text": [
      "There was a problem: 404 Client Error: Not Found for url: http://inventwithpython.com/page_that_does_not_exist\n"
     ]
    }
   ],
   "source": [
    "res_test = requests.get('http://inventwithpython.com/page_that_does_not_exist')\n",
    "try:\n",
    "    res_test.raise_for_status()\n",
    "except Exception as exc:\n",
    "    print('There was a problem: %s' % (exc))"
   ]
  },
  {
   "cell_type": "markdown",
   "metadata": {},
   "source": [
    "## Parse Text Required\n",
    "\n",
    "In this case, lets try and read the headline, and body of the article into a new text file, excluding any formatting, links, etc.\n"
   ]
  },
  {
   "cell_type": "code",
   "execution_count": 8,
   "metadata": {},
   "outputs": [
    {
     "name": "stdout",
     "output_type": "stream",
     "text": [
      "okay!\n"
     ]
    }
   ],
   "source": [
    "saved_str = ''\n",
    "if res.status_code == requests.codes.ok:\n",
    "    \n",
    "    print('okay!')"
   ]
  },
  {
   "cell_type": "code",
   "execution_count": 9,
   "metadata": {},
   "outputs": [
    {
     "name": "stdout",
     "output_type": "stream",
     "text": [
      "Marouane Fellaini: Manchester United midfielder signs new two-year deal\n"
     ]
    }
   ],
   "source": [
    "    # Find Header\n",
    "    position = res.text.find('<h1')\n",
    "    header_start = res.text.find('>', position)+1\n",
    "    header_end = res.text.find('<', header_start)\n",
    "    header_text = res.text[header_start:header_end]\n",
    "    print(header_text)"
   ]
  },
  {
   "cell_type": "code",
   "execution_count": 10,
   "metadata": {
    "scrolled": true
   },
   "outputs": [
    {
     "name": "stdout",
     "output_type": "stream",
     "text": [
      "Belgium midfielder Marouane Fellaini has thanked Jose Mourinho for his \"faith\" after signing a new two-year contract at Manchester United.</p><p>The 30-year-old, whose previous deal was due to expire on 30 June, had been expected to leave Old Trafford.</p><p>United manager <a href=\"https://www.bbc.co.uk/sport/football/43940979\">Jose Mourinho said</a> he wanted to keep Fellaini and the club spent the past few months trying to persuade him to stay.</p><div id=\"bbccom_mpu_1_2_3\" class=\"bbccom_slot\" aria-hidden=\"true\">\n",
      "    <div class=\"bbccom_advert\">\n",
      "        <script type=\"text/javascript\">\n",
      "            (function() {\n",
      "                if (window.bbcdotcom && bbcdotcom.adverts && bbcdotcom.adverts.slotAsync) {\n",
      "                    bbcdotcom.adverts.slotAsync(\"mpu\", [1,2,3]);\n",
      "                }\n",
      "            })();\n",
      "        </script>\n",
      "    </div>\n",
      "</div><p>\"I made this decision because I am very happy here,\" said Fellaini.</p><p>\"I feel like this team, under Jose, still has a lot we want to achieve. I would like to say a special thank you to Jose for the faith he has always shown in me.\"</p><p>Fellaini has scored 20 goals in 156 appearances for United since a &pound;27m move from Everton in 2013.</p><p>His new contract gives the option for a further season.</p><p>\"I am very happy Marouane is staying with us,\" said Mourinho. \"I always believed in his desire to stay with the club and I am delighted that he has signed a new contract.\"</p><p>Fellaini became David Moyes' first significant signing after he replaced Sir Alex Ferguson, but endured two spells out of the team last season because of a knee injury that eventually required surgery.</p><p>He missed the FA Cup final defeat by Chelsea at Wembley in May with a muscle strain.</p>\n",
      " \n"
     ]
    }
   ],
   "source": [
    "    # Find Body\n",
    "    position = res.text.find('sp-story-body__introduction')\n",
    "    body_start = res.text.find('>', position)+1\n",
    "    body_end = res.text.find('</div> <script>', body_start)\n",
    "    body_text = res.text[body_start:body_end]\n",
    "    print(body_text)"
   ]
  },
  {
   "cell_type": "markdown",
   "metadata": {},
   "source": [
    "## Clean up the body text\n",
    "\n",
    "Remove the bits of code within <div\\> and </div\\> statements.  Alse deal with <p\\> and <a\\> statements.\n"
   ]
  },
  {
   "cell_type": "code",
   "execution_count": 11,
   "metadata": {},
   "outputs": [
    {
     "name": "stdout",
     "output_type": "stream",
     "text": [
      "Belgium midfielder Marouane Fellaini has thanked Jose Mourinho for his \"faith\" after signing a new two-year contract at Manchester United.</p><p>The 30-year-old, whose previous deal was due to expire on 30 June, had been expected to leave Old Trafford.</p><p>United manager <a href=\"https://www.bbc.co.uk/sport/football/43940979\">Jose Mourinho said</a> he wanted to keep Fellaini and the club spent the past few months trying to persuade him to stay.</p><p>\"I made this decision because I am very happy here,\" said Fellaini.</p><p>\"I feel like this team, under Jose, still has a lot we want to achieve. I would like to say a special thank you to Jose for the faith he has always shown in me.\"</p><p>Fellaini has scored 20 goals in 156 appearances for United since a &pound;27m move from Everton in 2013.</p><p>His new contract gives the option for a further season.</p><p>\"I am very happy Marouane is staying with us,\" said Mourinho. \"I always believed in his desire to stay with the club and I am delighted that he has signed a new contract.\"</p><p>Fellaini became David Moyes' first significant signing after he replaced Sir Alex Ferguson, but endured two spells out of the team last season because of a knee injury that eventually required surgery.</p><p>He missed the FA Cup final defeat by Chelsea at Wembley in May with a muscle strain.</p>\n",
      " \n"
     ]
    }
   ],
   "source": [
    "    # Remove any code in <div> statements, starting from the end as these can \n",
    "    # be nested.\n",
    "    temp_text = ''\n",
    "    position = body_text.rfind('<div')\n",
    "    while position > -1:\n",
    "        position_end = max(body_text.find('</div>', position) + 6, \\\n",
    "                           body_text.find('>', position) + 1)\n",
    "        body_text = body_text[:position] + body_text[position_end:]\n",
    "        position = body_text.rfind('<div')\n",
    "    \n",
    "    print(body_text)"
   ]
  },
  {
   "cell_type": "code",
   "execution_count": 12,
   "metadata": {},
   "outputs": [
    {
     "name": "stdout",
     "output_type": "stream",
     "text": [
      "Belgium midfielder Marouane Fellaini has thanked Jose Mourinho for his \"faith\" after signing a new two-year contract at Manchester United.\n",
      "\n",
      "The 30-year-old, whose previous deal was due to expire on 30 June, had been expected to leave Old Trafford.\n",
      "\n",
      "United manager <a href=\"https://www.bbc.co.uk/sport/football/43940979\">Jose Mourinho said</a> he wanted to keep Fellaini and the club spent the past few months trying to persuade him to stay.\n",
      "\n",
      "\"I made this decision because I am very happy here,\" said Fellaini.\n",
      "\n",
      "\"I feel like this team, under Jose, still has a lot we want to achieve. I would like to say a special thank you to Jose for the faith he has always shown in me.\"\n",
      "\n",
      "Fellaini has scored 20 goals in 156 appearances for United since a &pound;27m move from Everton in 2013.\n",
      "\n",
      "His new contract gives the option for a further season.\n",
      "\n",
      "\"I am very happy Marouane is staying with us,\" said Mourinho. \"I always believed in his desire to stay with the club and I am delighted that he has signed a new contract.\"\n",
      "\n",
      "Fellaini became David Moyes' first significant signing after he replaced Sir Alex Ferguson, but endured two spells out of the team last season because of a knee injury that eventually required surgery.\n",
      "\n",
      "He missed the FA Cup final defeat by Chelsea at Wembley in May with a muscle strain.\n",
      "\n",
      " \n"
     ]
    }
   ],
   "source": [
    "    # Remove any <p> and </p> replacing each with new line.\n",
    "    temp_text = body_text.replace('<p>','\\n')\n",
    "    body_text = temp_text.replace('</p>','\\n')\n",
    "    print(body_text)"
   ]
  },
  {
   "cell_type": "code",
   "execution_count": 13,
   "metadata": {},
   "outputs": [
    {
     "name": "stdout",
     "output_type": "stream",
     "text": [
      "https://www.bbc.co.uk/sport/football/43940979\n",
      "Belgium midfielder Marouane Fellaini has thanked Jose Mourinho for his \"faith\" after signing a new two-year contract at Manchester United.\n",
      "\n",
      "The 30-year-old, whose previous deal was due to expire on 30 June, had been expected to leave Old Trafford.\n",
      "\n",
      "United manager Jose Mourinho said he wanted to keep Fellaini and the club spent the past few months trying to persuade him to stay.\n",
      "\n",
      "\"I made this decision because I am very happy here,\" said Fellaini.\n",
      "\n",
      "\"I feel like this team, under Jose, still has a lot we want to achieve. I would like to say a special thank you to Jose for the faith he has always shown in me.\"\n",
      "\n",
      "Fellaini has scored 20 goals in 156 appearances for United since a &pound;27m move from Everton in 2013.\n",
      "\n",
      "His new contract gives the option for a further season.\n",
      "\n",
      "\"I am very happy Marouane is staying with us,\" said Mourinho. \"I always believed in his desire to stay with the club and I am delighted that he has signed a new contract.\"\n",
      "\n",
      "Fellaini became David Moyes' first significant signing after he replaced Sir Alex Ferguson, but endured two spells out of the team last season because of a knee injury that eventually required surgery.\n",
      "\n",
      "He missed the FA Cup final defeat by Chelsea at Wembley in May with a muscle strain.\n"
     ]
    }
   ],
   "source": [
    "    # Remove <a> and </a> recording the embedded links.\n",
    "    position = body_text.find('<a ')\n",
    "    link_list = []\n",
    "    i = 0\n",
    "    while position > -1:\n",
    "        href_start = body_text.find('href=', position) + 5\n",
    "        href_char = body_text[href_start:href_start+1]\n",
    "        href_end = body_text.find(href_char, href_start+2)\n",
    "        link_list.append(body_text[href_start+1:href_end])\n",
    "\n",
    "        print(link_list[i])\n",
    "        i=i+1\n",
    "        \n",
    "        position_end = body_text.find('>', position) + 1\n",
    "        body_text = body_text[:position] + body_text[position_end:]\n",
    "        \n",
    "        position = body_text.find('<a ')\n",
    "        \n",
    "    body_text = body_text.replace('</a>','')\n",
    "    body_text = body_text.strip()\n",
    "    print(body_text)"
   ]
  },
  {
   "cell_type": "markdown",
   "metadata": {},
   "source": [
    "## Save the output to a text file\n",
    "\n",
    "Need to create a file and save the output to it, including web address, clean text and links."
   ]
  },
  {
   "cell_type": "code",
   "execution_count": 14,
   "metadata": {},
   "outputs": [],
   "source": [
    "playFile = open('Fellaini Story.txt', 'w')\n",
    "playFile.write(header_text + \"\\nFrom: \" + webpage + \"\\n\\n\")\n",
    "playFile.write(body_text )\n",
    "if link_list != []:\n",
    "    playFile.write(\"\\n\\n\\n\" + \"Links from text:\" + \"\\n\")\n",
    "    \n",
    "for link in link_list:\n",
    "    playFile.write(link +\"\\n\")\n",
    "\n",
    "playFile.close()"
   ]
  },
  {
   "cell_type": "markdown",
   "metadata": {},
   "source": [
    "# Using Beautiful Soup.\n",
    "\n",
    "The initial practice above worked well.  Now lets test out Beautiful Soup on this page and a more complicated couple of webpages.  This list will be our guinea pigs:\n",
    "- https://www.bbc.com/sport/football/44659159\n",
    "- https://www.bbc.com/sport/football/44665445\n",
    "- https://www.bbc.com/sport/football/45053886\n",
    "\n",
    "\n",
    "Some work to do for fixtures data...\n",
    "- https://www.bbc.com/sport/football/world-cup/scores-fixtures/2018-07-07"
   ]
  },
  {
   "cell_type": "markdown",
   "metadata": {},
   "source": [
    "## Load in Beautiful Soup and create initial conditions\n",
    "\n",
    "Load in Beautiful Soup module and create an initial list of web addresses to use, including one which doesn't exist to test the exception code.\n"
   ]
  },
  {
   "cell_type": "code",
   "execution_count": 15,
   "metadata": {},
   "outputs": [],
   "source": [
    "import bs4, requests\n",
    "\n",
    "initial_link_list = [\"https://www.bbc.com/sport/football/44659159\", \\\n",
    "                     \"https://www.bbc.com/sport/football/44665445\", \\\n",
    "                     \"http://inventwithpython.com/page_that_does_not_exist\", \\\n",
    "                     \"https://www.bbc.com/sport/football/45053886\"]"
   ]
  },
  {
   "cell_type": "code",
   "execution_count": 16,
   "metadata": {},
   "outputs": [
    {
     "name": "stdout",
     "output_type": "stream",
     "text": [
      "There was a problem: 404 Client Error: Not Found for url: http://inventwithpython.com/page_that_does_not_exist\n"
     ]
    }
   ],
   "source": [
    "wpi=1\n",
    "for webpage in initial_link_list:\n",
    "    # Get the webpage and check it has been acquired.  If not, skip to next item in the list.\n",
    "    res = requests.get(webpage)\n",
    "    try:\n",
    "        res.raise_for_status()\n",
    "    except Exception as exc:\n",
    "        print('There was a problem: %s' % (exc))\n",
    "        continue"
   ]
  },
  {
   "cell_type": "markdown",
   "metadata": {},
   "source": [
    "## With a single webpage\n",
    "\n",
    "It's all well and good trying to do this in a for loop, but lets use a single webpage for now... This one: https://www.bbc.com/sport/football/44659159"
   ]
  },
  {
   "cell_type": "code",
   "execution_count": 17,
   "metadata": {},
   "outputs": [
    {
     "name": "stdout",
     "output_type": "stream",
     "text": [
      "<class 'bs4.BeautifulSoup'>\n"
     ]
    }
   ],
   "source": [
    "webpage = initial_link_list[0]\n",
    "res= requests.get(webpage)\n",
    "page_soup = bs4.BeautifulSoup(res.text, \"html.parser\")\n",
    "print(type(page_soup))"
   ]
  },
  {
   "cell_type": "markdown",
   "metadata": {},
   "source": [
    "### Header\n",
    "\n",
    "Acquire the header information for the page"
   ]
  },
  {
   "cell_type": "code",
   "execution_count": 18,
   "metadata": {
    "scrolled": false
   },
   "outputs": [
    {
     "name": "stdout",
     "output_type": "stream",
     "text": [
      "1\n",
      "<h1 class=\"story-headline gel-trafalgar-bold \">Marouane Fellaini: Manchester United midfielder signs new two-year deal</h1>\n",
      "{'class': ['story-headline', 'gel-trafalgar-bold', '']}\n",
      "Marouane Fellaini: Manchester United midfielder signs new two-year deal\n"
     ]
    }
   ],
   "source": [
    "# Not sure why the next line doesn't work...\n",
    "# headers = page_soup.select('h1[.story_headline]')\n",
    "\n",
    "headers = page_soup.select('.story-headline')\n",
    "print(len(headers))\n",
    "for header in headers:\n",
    "    print(header)\n",
    "    print(header.attrs)\n",
    "    print(header.getText())"
   ]
  },
  {
   "cell_type": "markdown",
   "metadata": {},
   "source": [
    "### Body text and links\n",
    "\n",
    "Next pull out the body text and the links as we did above."
   ]
  },
  {
   "cell_type": "code",
   "execution_count": 19,
   "metadata": {},
   "outputs": [
    {
     "name": "stdout",
     "output_type": "stream",
     "text": [
      "1\n",
      "Belgium midfielder Marouane Fellaini has thanked Jose Mourinho for his \"faith\" after signing a new two-year contract at Manchester United.\n"
     ]
    }
   ],
   "source": [
    "# help(page_soup)\n",
    "intropara = page_soup.select('.sp-story-body__introduction')\n",
    "print(len(intropara))\n",
    "print(intropara[0].getText())"
   ]
  },
  {
   "cell_type": "code",
   "execution_count": 20,
   "metadata": {},
   "outputs": [
    {
     "name": "stdout",
     "output_type": "stream",
     "text": [
      "10\n",
      "0\n",
      "0\n"
     ]
    }
   ],
   "source": [
    "paragraphs = page_soup.select('div.story-body p')\n",
    "print(len(paragraphs))\n",
    "i=0\n",
    "for paragraph in paragraphs:\n",
    "    if paragraph.getText()==intropara[0].getText():\n",
    "        print(i)\n",
    "        break\n",
    "    else: \n",
    "        i = i+1\n",
    "else:\n",
    "    print(\"\\\"\" + intropara[0].getText() + \"\\\" not found in paragraphs\")\n",
    "print(i)\n",
    "opening_para = i"
   ]
  },
  {
   "cell_type": "code",
   "execution_count": 21,
   "metadata": {},
   "outputs": [
    {
     "name": "stdout",
     "output_type": "stream",
     "text": [
      "It ran something...\n"
     ]
    }
   ],
   "source": [
    "    # Open and output to a file    \n",
    "    playfile = open('Example Output File ' + str(wpi) + '.txt', 'w')\n",
    "    \n",
    "    # CREATE OUTPUT HERE....\n",
    "    playfile.write(headers[0].getText() + \"\\nFrom: \" + webpage + \"\\n\\n\")\n",
    "    for i in range(opening_para,len(paragraphs)):\n",
    "        playfile.write(paragraphs[i].getText() + \"\\n\\n\")\n",
    "\n",
    "    print(\"It ran something...\")\n",
    "    \n",
    "    playfile.close()\n",
    "    res.close()\n",
    "    wpi=wpi+1"
   ]
  },
  {
   "cell_type": "markdown",
   "metadata": {},
   "source": [
    "## Create Loop to do this for multiple pages\n",
    "\n",
    "Amalgamating all the above code to give:"
   ]
  },
  {
   "cell_type": "code",
   "execution_count": 22,
   "metadata": {},
   "outputs": [
    {
     "name": "stdout",
     "output_type": "stream",
     "text": [
      "Start of https://www.bbc.com/sport/football/44659159\n",
      "Belgium midfielder Marouane Fellaini has thanked Jose Mourinho for his \"faith\" after signing a new two-year contract at Manchester United.\n",
      "Paragraph 0\n",
      "Additional attributes found!\n",
      "File created:  Example Output v1 File 1.txt\n",
      "Start of https://www.bbc.com/sport/football/44665445\n",
      "England reached the World Cup semi-final for the first time since Italia 90 as Harry Maguire and Dele Alli struck either side of the interval to beat Sweden in Samara.\n",
      "Paragraph 1\n",
      "Additional attributes found!\n",
      "Paragraph 9\n",
      "Paragraph 17\n",
      "Paragraph 27\n",
      "Paragraph 33\n",
      "File created:  Example Output v1 File 2.txt\n",
      "Start of http://inventwithpython.com/page_that_does_not_exist\n",
      "There was a problem: 404 Client Error: Not Found for url: http://inventwithpython.com/page_that_does_not_exist\n",
      "Start of https://www.bbc.com/sport/football/45053886\n",
      "Manchester United manager Jose Mourinho praised \"monster\" Paul Pogba after he captained the side and scored the opening goal in the win over Leicester City on the first day of the Premier League season.\n",
      "Paragraph 0\n",
      "Additional attributes found!\n",
      "Paragraph 17\n",
      "Additional attributes found!\n",
      "Paragraph 18\n",
      "Additional attributes found!\n",
      "Paragraph 25\n",
      "Paragraph 36\n",
      "File created:  Example Output v1 File 3.txt\n"
     ]
    }
   ],
   "source": [
    "# Initial Conditions\n",
    "import bs4, requests\n",
    "\n",
    "initial_link_list = [\"https://www.bbc.com/sport/football/44659159\", \\\n",
    "                     \"https://www.bbc.com/sport/football/44665445\", \\\n",
    "                     \"http://inventwithpython.com/page_that_does_not_exist\", \\\n",
    "                     \"https://www.bbc.com/sport/football/45053886\"]\n",
    "wpi = 1\n",
    "\n",
    "# Loop through webpages\n",
    "for webpage in initial_link_list:\n",
    "    print('Start of ' + webpage)\n",
    "    res= requests.get(webpage)\n",
    "\n",
    "    # Test webpage request.\n",
    "    try:\n",
    "        res.raise_for_status()\n",
    "    except Exception as exc:\n",
    "        print('There was a problem: %s' % (exc))\n",
    "        continue\n",
    "    \n",
    "    # Read in webpage and relevent sections    \n",
    "    page_soup = bs4.BeautifulSoup(res.text, \"html.parser\")\n",
    "    headers = page_soup.select('.story-headline')\n",
    "    paragraphs = page_soup.select('div.story-body p')\n",
    "    intropara = page_soup.select('.sp-story-body__introduction')\n",
    "\n",
    "    # Find initial paragraph and move on to next webpage if not possible\n",
    "    print(intropara[0].getText())\n",
    "    opening_para = -1\n",
    "    i=0\n",
    "    for paragraph in paragraphs:\n",
    "        if paragraph.getText()==intropara[0].getText():\n",
    "            opening_para = i\n",
    "            break\n",
    "        else: \n",
    "            i = i+1\n",
    "    else:\n",
    "        print(\"\\\"\" + intropara[0].getText() + \"\\\" not found in paragraphs\")\n",
    "        continue\n",
    "    \n",
    "    # Open and output to a file    \n",
    "    playfile = open('Example Output v1 File ' + str(wpi) + '.txt', 'w')\n",
    "    \n",
    "    # CREATE OUTPUT HERE....\n",
    "    playfile.write(headers[0].getText() + \"\\nFrom: \" + webpage + \"\\n\\n\")\n",
    "    for i in range(opening_para,len(paragraphs)):\n",
    "        if paragraphs[i].attrs != {}:\n",
    "            print(\"Paragraph \" + str(i))\n",
    "            if 'class' in paragraphs[i].attrs and \\\n",
    "                paragraphs[i].attrs[\"class\"] == [\"sp-media-asset__smp-message\"]:\n",
    "                continue\n",
    "            else:\n",
    "                print(\"Additional attributes found!\")\n",
    "        playfile.write(\"Paragraph \"+str(i) + \"\\n\" + paragraphs[i].getText() + \"\\n\\n\")\n",
    "\n",
    "    print(\"File created:  \" + 'Example Output v1 File ' + str(wpi) + '.txt')\n",
    "    \n",
    "    playfile.close()\n",
    "    res.close()\n",
    "    wpi=wpi+1"
   ]
  },
  {
   "cell_type": "markdown",
   "metadata": {},
   "source": [
    "## Repeat loop for multiple pages using Beautiful Soup navigation\n",
    "\n",
    "Improving the above code to use the Beautiful Soup methods to navigate the tree:"
   ]
  },
  {
   "cell_type": "code",
   "execution_count": 23,
   "metadata": {},
   "outputs": [
    {
     "name": "stdout",
     "output_type": "stream",
     "text": [
      "Start of https://www.bbc.com/sport/football/44659159\n",
      "Belgium midfielder Marouane Fellaini has thanked Jose Mourinho for his \"faith\" after signing a new two-year contract at Manchester United.\n",
      "File created:  Example Output v2 File 1.txt\n",
      "Start of https://www.bbc.com/sport/football/44665445\n",
      "England reached the World Cup semi-final for the first time since Italia 90 as Harry Maguire and Dele Alli struck either side of the interval to beat Sweden in Samara.\n",
      "File created:  Example Output v2 File 2.txt\n",
      "Start of http://inventwithpython.com/page_that_does_not_exist\n",
      "There was a problem: 404 Client Error: Not Found for url: http://inventwithpython.com/page_that_does_not_exist\n",
      "Start of https://www.bbc.com/sport/football/45053886\n",
      "Manchester United manager Jose Mourinho praised \"monster\" Paul Pogba after he captained the side and scored the opening goal in the win over Leicester City on the first day of the Premier League season.\n",
      "File created:  Example Output v2 File 3.txt\n"
     ]
    }
   ],
   "source": [
    "# Initial Conditions\n",
    "import bs4, requests\n",
    "\n",
    "initial_link_list = [\"https://www.bbc.com/sport/football/44659159\", \\\n",
    "                     \"https://www.bbc.com/sport/football/44665445\", \\\n",
    "                     \"http://inventwithpython.com/page_that_does_not_exist\", \\\n",
    "                     \"https://www.bbc.com/sport/football/45053886\"]\n",
    "wpi = 1\n",
    "\n",
    "# Loop through webpages\n",
    "for webpage in initial_link_list:\n",
    "    print('Start of ' + webpage)\n",
    "    res= requests.get(webpage)\n",
    "\n",
    "    # Test webpage request.\n",
    "    try:\n",
    "        res.raise_for_status()\n",
    "    except Exception as exc:\n",
    "        print('There was a problem: %s' % (exc))\n",
    "        continue\n",
    "    \n",
    "    # Read in webpage and relevent sections    \n",
    "    page_soup = bs4.BeautifulSoup(res.text, \"html.parser\")\n",
    "    headers = page_soup.select('.story-headline')\n",
    "    intropara = page_soup.select('.sp-story-body__introduction')\n",
    "    paragraphs = intropara[0].next_siblings\n",
    "    \n",
    "    # Print initial paragraph\n",
    "    print(intropara[0].getText())\n",
    "    opening_para = -1\n",
    "    i=0\n",
    "    \n",
    "    # Open and output to a file    \n",
    "    playfile = open('Example Output v2 File ' + str(wpi) + '.txt', 'w')\n",
    "    \n",
    "    # CREATE OUTPUT HERE....\n",
    "    playfile.write(headers[0].getText() + \"\\nFrom: \" + webpage + \"\\n\\n\")\n",
    "    playfile.write(\"Paragraph \"+str(i) + \"\\n\" + intropara[0].getText()+\"\\n\\n\")\n",
    "    for paragraph in paragraphs:\n",
    "        \n",
    "        if paragraph.name == 'p' or paragraph.name == 'paragraph' or paragraph.name == 'h2' or paragraph.name == 'h3':\n",
    "            i=i+1\n",
    "            playfile.write(\"Paragraph \"+str(i) + \"\\n\" + paragraph.getText() + \"\\n\\n\")\n",
    "\n",
    "    print(\"File created:  \" + 'Example Output v2 File ' + str(wpi) + '.txt')\n",
    "    \n",
    "    playfile.close()\n",
    "    res.close()\n",
    "    wpi=wpi+1"
   ]
  }
 ],
 "metadata": {
  "kernelspec": {
   "display_name": "Python 3",
   "language": "python",
   "name": "python3"
  },
  "language_info": {
   "codemirror_mode": {
    "name": "ipython",
    "version": 3
   },
   "file_extension": ".py",
   "mimetype": "text/x-python",
   "name": "python",
   "nbconvert_exporter": "python",
   "pygments_lexer": "ipython3",
   "version": "3.6.5"
  }
 },
 "nbformat": 4,
 "nbformat_minor": 2
}
